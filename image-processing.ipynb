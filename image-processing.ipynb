import numpy as np
import random
import string
from collections import Counter, defaultdict
import cv2
from PIL import Image
import os
import itertools as it
import shutil
